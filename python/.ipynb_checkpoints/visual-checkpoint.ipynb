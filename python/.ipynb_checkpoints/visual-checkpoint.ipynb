{
 "cells": [
  {
   "cell_type": "code",
   "execution_count": 1,
   "metadata": {
    "collapsed": false
   },
   "outputs": [
    {
     "name": "stdout",
     "output_type": "stream",
     "text": [
      "deisel_price 929\n",
      "alcohol_crashes 23\n",
      "passenger_number 158\n",
      "aircraft_accident 28\n",
      "unruly_passenger 21\n",
      "fuel_consumption 188\n",
      "['07 1974', 957.2, 1605.2, 1.68, 557.0, 936.5, 1.68, 1514.2, 2541.7, 1.68]\n"
     ]
    }
   ],
   "source": [
    "import json\n",
    "import numpy as np\n",
    "import datetime\n",
    "\n",
    "month_dic = {'01':'Jan','02':'Feb','03':'Mar','04':'Apr','05':'May','06':'Jun',\n",
    "             '07':'Jul','08':'Aug','09':'Sep','10':'Oct','11':'Nov','12':'Dec'}\n",
    "def load_data(file):\n",
    "    with open(file, 'r') as f:\n",
    "        data = json.load(f)\n",
    "    data = data['results'][0]['data']\n",
    "    for item in data:\n",
    "        dateTime = datetime.datetime.fromtimestamp(item[0]/10000).strftime('%Y-%m-%d %H:%M:%S')\n",
    "        splitData = dateTime.split('-')\n",
    "        monthYear = splitData[1] + ' ' + splitData[0]\n",
    "        item[0] = monthYear\n",
    "    return data\n",
    "\n",
    "deisel_price = load_data('retail_deisel_prices.json')\n",
    "print 'deisel_price',len(deisel_price)\n",
    "\n",
    "alcohol_crashes = load_data('alcohol_related_crashes.json')\n",
    "print 'alcohol_crashes',len(alcohol_crashes)\n",
    "\n",
    "passenger_number = load_data('monthly_number_of_airline_passengers_all_carriers.json')\n",
    "print 'passenger_number',len(passenger_number)\n",
    "\n",
    "aircraft_accident = load_data('aircraft_accident_rates.json')\n",
    "print 'aircraft_accident' ,len(aircraft_accident)\n",
    "\n",
    "unruly_passenger = load_data('unruly_airline_passengers.json')\n",
    "print 'unruly_passenger' ,len(unruly_passenger)\n",
    "\n",
    "fuel_consumption = load_data('usa_airline_fuel_cost_consumption.json')\n",
    "print 'fuel_consumption' ,len(fuel_consumption)"
   ]
  },
  {
   "cell_type": "code",
   "execution_count": 3,
   "metadata": {
    "collapsed": false
   },
   "outputs": [],
   "source": [
    "visual = [[\"\",\"Month\",\"\"]]\n",
    "visual += [[\"Deisel Price\", i[0], i[1]] for i in deisel_price]\n",
    "visual += [[\"Passenger Number\", i[0], i[3]] for i in passenger_number]\n",
    "visual += [[\"Consumption\", i[0], i[7]] for i in fuel_consumption]"
   ]
  },
  {
   "cell_type": "code",
   "execution_count": 4,
   "metadata": {
    "collapsed": true
   },
   "outputs": [],
   "source": [
    "np.savetxt(\"visual.csv\", visual, delimiter=\",\", fmt='%s')"
   ]
  },
  {
   "cell_type": "code",
   "execution_count": null,
   "metadata": {
    "collapsed": true
   },
   "outputs": [],
   "source": []
  }
 ],
 "metadata": {
  "kernelspec": {
   "display_name": "Python 2",
   "language": "python",
   "name": "python2"
  },
  "language_info": {
   "codemirror_mode": {
    "name": "ipython",
    "version": 2
   },
   "file_extension": ".py",
   "mimetype": "text/x-python",
   "name": "python",
   "nbconvert_exporter": "python",
   "pygments_lexer": "ipython2",
   "version": "2.7.9"
  }
 },
 "nbformat": 4,
 "nbformat_minor": 0
}
