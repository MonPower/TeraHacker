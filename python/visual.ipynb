{
 "cells": [
  {
   "cell_type": "code",
   "execution_count": 44,
   "metadata": {
    "collapsed": false
   },
   "outputs": [
    {
     "name": "stdout",
     "output_type": "stream",
     "text": [
      "deisel_price 667\n",
      "alcohol_crashes 4\n",
      "passenger_number 158\n",
      "aircraft_accident 10\n",
      "unruly_passenger 13\n",
      "fuel_consumption 159\n",
      "['Apr 1974', 839.4, 2560.4, 3.05, 466.0, 1416.4, 3.04, 1305.4, 3976.8, 3.05]\n"
     ]
    }
   ],
   "source": [
    "import json\n",
    "import numpy as np\n",
    "import datetime\n",
    "\n",
    "month_dic = {'01':'Jan','02':'Feb','03':'Mar','04':'Apr','05':'May','06':'Jun',\n",
    "             '07':'Jul','08':'Aug','09':'Sep','10':'Oct','11':'Nov','12':'Dec'}\n",
    "def load_data(file):\n",
    "    with open(file, 'r') as f:\n",
    "        data = json.load(f)\n",
    "    raw_data = data['results'][0]['data']\n",
    "    data = []\n",
    "    for item in raw_data:\n",
    "        dateTime = datetime.datetime.fromtimestamp(item[0]/10000).strftime('%Y-%m-%d %H:%M:%S')\n",
    "        splitData = dateTime.split('-')\n",
    "        if int(splitData[0]) < 1973:\n",
    "            continue\n",
    "        if int(splitData[0]) == 1974 and int(splitData[1]) > 4:\n",
    "            continue\n",
    "        splitData[1] = month_dic[splitData[1]]\n",
    "        monthYear = splitData[1] + ' ' + splitData[0]\n",
    "        item[0] = monthYear\n",
    "        data += [item]\n",
    "    return data\n",
    "\n",
    "deisel_price = load_data('retail_deisel_prices.json')\n",
    "print 'deisel_price',len(deisel_price)\n",
    "\n",
    "alcohol_crashes = load_data('alcohol_related_crashes.json')\n",
    "print 'alcohol_crashes',len(alcohol_crashes)\n",
    "\n",
    "passenger_number = load_data('monthly_number_of_airline_passengers_all_carriers.json')\n",
    "print 'passenger_number',len(passenger_number)\n",
    "\n",
    "aircraft_accident = load_data('aircraft_accident_rates.json')\n",
    "print 'aircraft_accident' ,len(aircraft_accident)\n",
    "\n",
    "unruly_passenger = load_data('unruly_airline_passengers.json')\n",
    "print 'unruly_passenger' ,len(unruly_passenger)\n",
    "\n",
    "fuel_consumption = load_data('usa_airline_fuel_cost_consumption.json')\n",
    "print 'fuel_consumption' ,len(fuel_consumption)\n",
    "print fuel_consumption[0]"
   ]
  },
  {
   "cell_type": "code",
   "execution_count": 51,
   "metadata": {
    "collapsed": false
   },
   "outputs": [],
   "source": [
    "def fill_in_data(original_data, index):\n",
    "    new_data = []\n",
    "    tmp = 0\n",
    "    count = 0\n",
    "    for i in xrange(len(original_data)-1):\n",
    "        tmp += original_data[i][index]\n",
    "        count += 1\n",
    "        if original_data[i][0][:3] != original_data[i+1][0][:3]:\n",
    "            tmp += original_data[i][index]\n",
    "            count += 1\n",
    "            tmp = float(tmp) / count\n",
    "            original_data[i][index] = tmp\n",
    "            new_data += [original_data[i]]\n",
    "            tmp = 0\n",
    "            count = 0\n",
    "    tmp += original_data[-1][index]\n",
    "    count += 1\n",
    "    tmp = float(tmp) / count\n",
    "    original_data[-1][index] = tmp\n",
    "    new_data += [original_data[-1]]\n",
    "    return new_data\n",
    "deisel_price_vis = fill_in_data(deisel_price,1)\n",
    "passenger_number_vis = fill_in_data(passenger_number,3)\n",
    "fuel_consumption_vis = fill_in_data(fuel_consumption,7)\n",
    "visual = [[\"\",\"Month\",\"\"]]\n",
    "visual += [[\"Deisel Price\", i[0], i[1]] for i in deisel_price_vis]\n",
    "visual += [[\"Passenger Number\", i[0], float(i[3])/10000000] for i in passenger_number_vis]\n",
    "visual += [[\"Consumption\", i[0], float(i[7])/1000] for i in fuel_consumption_vis]"
   ]
  },
  {
   "cell_type": "code",
   "execution_count": 52,
   "metadata": {
    "collapsed": true
   },
   "outputs": [],
   "source": [
    "np.savetxt(\"visual.csv\", visual, delimiter=\",\", fmt='%s')"
   ]
  },
  {
   "cell_type": "code",
   "execution_count": 34,
   "metadata": {
    "collapsed": false
   },
   "outputs": [
    {
     "name": "stdout",
     "output_type": "stream",
     "text": [
      "5\n",
      "4\n",
      "3\n",
      "2\n",
      "1\n"
     ]
    }
   ],
   "source": []
  },
  {
   "cell_type": "code",
   "execution_count": null,
   "metadata": {
    "collapsed": true
   },
   "outputs": [],
   "source": []
  }
 ],
 "metadata": {
  "kernelspec": {
   "display_name": "Python 2",
   "language": "python",
   "name": "python2"
  },
  "language_info": {
   "codemirror_mode": {
    "name": "ipython",
    "version": 2
   },
   "file_extension": ".py",
   "mimetype": "text/x-python",
   "name": "python",
   "nbconvert_exporter": "python",
   "pygments_lexer": "ipython2",
   "version": "2.7.9"
  }
 },
 "nbformat": 4,
 "nbformat_minor": 0
}
