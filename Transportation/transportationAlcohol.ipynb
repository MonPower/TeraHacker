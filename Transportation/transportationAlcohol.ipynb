{
 "cells": [
  {
   "cell_type": "code",
   "execution_count": 2,
   "metadata": {
    "collapsed": false
   },
   "outputs": [
    {
     "name": "stdout",
     "output_type": "stream",
     "text": [
      "05 1973 26 12:42:00\n",
      "04 1973 19 23:42:00\n",
      "03 1973 14 11:42:00\n",
      "02 1973 05 23:42:00\n",
      "12 1972 31 09:18:00\n",
      "11 1972 24 21:18:00\n",
      "10 1972 19 10:18:00\n",
      "09 1972 12 22:18:00\n",
      "08 1972 07 07:54:00\n",
      "07 1972 01 19:54:00\n",
      "05 1972 26 07:54:00\n",
      "04 1972 19 18:54:00\n",
      "03 1972 14 04:30:00\n",
      "02 1972 06 16:30:00\n",
      "01 1972 01 04:30:00\n",
      "11 1971 25 16:30:00\n",
      "10 1971 20 03:06:00\n",
      "09 1971 13 15:06:00\n",
      "08 1971 08 03:06:00\n",
      "07 1971 02 15:06:00\n",
      "05 1971 27 00:42:00\n",
      "04 1971 20 11:42:00\n",
      "03 1971 14 23:42:00\n"
     ]
    }
   ],
   "source": [
    "import json\n",
    "import datetime\n",
    "with open('transportation.alcohol_related_crashes.json', 'r') as f:\n",
    "     allData = json.load(f)\n",
    "\n",
    "#print allData\n",
    "TrafficCrashesMonth = {}\n",
    "data = allData['results'][0]\n",
    "rawData = data['data']\n",
    "\n",
    "month = []\n",
    "for item in rawData:\n",
    "    dateTime = datetime.datetime.fromtimestamp(item[0]/10000).strftime('%Y-%m-%d %H:%M:%S')\n",
    "    splitData = dateTime.split('-')\n",
    "    monthYear = splitData[1] + ' ' + splitData[0] + ' ' + splitData[2]\n",
    "    item[0] = monthYear\n",
    "    print monthYear"
   ]
  },
  {
   "cell_type": "code",
   "execution_count": 80,
   "metadata": {
    "collapsed": false
   },
   "outputs": [
    {
     "name": "stdout",
     "output_type": "stream",
     "text": [
      "5\n",
      "4\n",
      "3\n",
      "2\n",
      "12\n",
      "11\n",
      "10\n",
      "9\n",
      "8\n",
      "7\n",
      "5\n",
      "4\n",
      "3\n",
      "2\n",
      "1\n",
      "11\n",
      "10\n",
      "9\n",
      "8\n",
      "7\n",
      "5\n",
      "4\n",
      "3\n"
     ]
    },
    {
     "data": {
      "text/plain": [
       "[5, 4, 3, 2, 12, 11, 10, 9, 8, 7, 5, 4, 3, 2, 1, 11, 10, 9, 8, 7, 5, 4, 3]"
      ]
     },
     "execution_count": 80,
     "metadata": {},
     "output_type": "execute_result"
    }
   ],
   "source": [
    "\n",
    "\n",
    "monthJo\n",
    "month\n",
    "#datetime.datetime.fromtimestamp(10729332).strftime('%Y-%m-%d %H:%M:%S')"
   ]
  },
  {
   "cell_type": "code",
   "execution_count": 25,
   "metadata": {
    "collapsed": false
   },
   "outputs": [
    {
     "data": {
      "text/plain": [
       "datetime.datetime(1970, 1, 2, 2, 17, 36)"
      ]
     },
     "execution_count": 25,
     "metadata": {},
     "output_type": "execute_result"
    }
   ],
   "source": [
    "datetime.datetime.fromtimestamp(123456)"
   ]
  },
  {
   "cell_type": "code",
   "execution_count": null,
   "metadata": {
    "collapsed": true
   },
   "outputs": [],
   "source": []
  }
 ],
 "metadata": {
  "kernelspec": {
   "display_name": "Python 2",
   "language": "python",
   "name": "python2"
  },
  "language_info": {
   "codemirror_mode": {
    "name": "ipython",
    "version": 2
   },
   "file_extension": ".py",
   "mimetype": "text/x-python",
   "name": "python",
   "nbconvert_exporter": "python",
   "pygments_lexer": "ipython2",
   "version": "2.7.10"
  }
 },
 "nbformat": 4,
 "nbformat_minor": 0
}
