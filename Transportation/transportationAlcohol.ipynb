{
 "cells": [
  {
   "cell_type": "code",
   "execution_count": 95,
   "metadata": {
    "collapsed": false
   },
   "outputs": [
    {
     "name": "stdout",
     "output_type": "stream",
     "text": [
      "05 1973\n",
      "04 1973\n",
      "03 1973\n",
      "02 1973\n",
      "12 1972\n",
      "11 1972\n",
      "10 1972\n",
      "09 1972\n",
      "08 1972\n",
      "07 1972\n",
      "05 1972\n",
      "04 1972\n",
      "03 1972\n",
      "02 1972\n",
      "01 1972\n",
      "11 1971\n",
      "10 1971\n",
      "09 1971\n",
      "08 1971\n",
      "07 1971\n",
      "05 1971\n",
      "04 1971\n",
      "03 1971\n"
     ]
    }
   ],
   "source": [
    "import json\n",
    "import datetime\n",
    "with open('transportation.alcohol_related_crashes.json', 'r') as f:\n",
    "     allData = json.load(f)\n",
    "\n",
    "#print allData\n",
    "TrafficCrashesMonth = {}\n",
    "data = allData['results'][0]\n",
    "rawData = data['data']\n",
    "\n",
    "month = []\n",
    "for item in rawData:\n",
    "    dateTime = datetime.datetime.fromtimestamp(item[0]/10000).strftime('%Y-%m-%d %H:%M:%S')\n",
    "    splitData = dateTime.split('-')\n",
    "    monthYear = splitData[1] + ' ' + splitData[0]\n",
    "    item[0] = monthYear\n",
    "    print monthYear"
   ]
  },
  {
   "cell_type": "code",
   "execution_count": 80,
   "metadata": {
    "collapsed": false
   },
   "outputs": [
    {
     "name": "stdout",
     "output_type": "stream",
     "text": [
      "5\n",
      "4\n",
      "3\n",
      "2\n",
      "12\n",
      "11\n",
      "10\n",
      "9\n",
      "8\n",
      "7\n",
      "5\n",
      "4\n",
      "3\n",
      "2\n",
      "1\n",
      "11\n",
      "10\n",
      "9\n",
      "8\n",
      "7\n",
      "5\n",
      "4\n",
      "3\n"
     ]
    },
    {
     "data": {
      "text/plain": [
       "[5, 4, 3, 2, 12, 11, 10, 9, 8, 7, 5, 4, 3, 2, 1, 11, 10, 9, 8, 7, 5, 4, 3]"
      ]
     },
     "execution_count": 80,
     "metadata": {},
     "output_type": "execute_result"
    }
   ],
   "source": [
    "\n",
    "\n",
    "monthJo\n",
    "month\n",
    "#datetime.datetime.fromtimestamp(10729332).strftime('%Y-%m-%d %H:%M:%S')"
   ]
  },
  {
   "cell_type": "code",
   "execution_count": 25,
   "metadata": {
    "collapsed": false
   },
   "outputs": [
    {
     "data": {
      "text/plain": [
       "datetime.datetime(1970, 1, 2, 2, 17, 36)"
      ]
     },
     "execution_count": 25,
     "metadata": {},
     "output_type": "execute_result"
    }
   ],
   "source": [
    "datetime.datetime.fromtimestamp(123456)"
   ]
  },
  {
   "cell_type": "code",
   "execution_count": null,
   "metadata": {
    "collapsed": true
   },
   "outputs": [],
   "source": []
  }
 ],
 "metadata": {
  "kernelspec": {
   "display_name": "Python 2",
   "language": "python",
   "name": "python2"
  },
  "language_info": {
   "codemirror_mode": {
    "name": "ipython",
    "version": 2
   },
   "file_extension": ".py",
   "mimetype": "text/x-python",
   "name": "python",
   "nbconvert_exporter": "python",
   "pygments_lexer": "ipython2",
   "version": "2.7.10"
  }
 },
 "nbformat": 4,
 "nbformat_minor": 0
}
